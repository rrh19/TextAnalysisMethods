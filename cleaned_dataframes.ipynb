{
 "cells": [
  {
   "cell_type": "code",
   "execution_count": null,
   "metadata": {
    "collapsed": true,
    "deletable": true,
    "editable": true
   },
   "outputs": [],
   "source": [
    "import pandas as pd\n",
    "#read in CSVs\n",
    "df1 = pd.read_csv(\"/Users/ZSL/VENV/repo/text_analysis_methods/all-the-news/articles1.csv\")\n",
    "df2 = pd.read_csv(\"/Users/ZSL/VENV/repo/text_analysis_methods/all-the-news/articles2.csv\")\n",
    "df3 = pd.read_csv(\"//Users/ZSL/VENV/repo/text_analysis_methods/all-the-news/articles3.csv\")\n",
    "df4 = pd.read_csv(\"/Users/ZSL/VENV/repo/text_analysis_methods/fake.csv\") "
   ]
  },
  {
   "cell_type": "code",
   "execution_count": 1,
   "metadata": {
    "collapsed": false,
    "deletable": true,
    "editable": true,
    "scrolled": false
   },
   "outputs": [],
   "source": [
    "import glob\n",
    "import pandas as pd\n",
    "from natsort import natsorted\n",
    "files = glob.glob(\"unprocessed_csvs/*.csv\")\n",
    "files = natsorted(files)"
   ]
  },
  {
   "cell_type": "code",
   "execution_count": 2,
   "metadata": {
    "collapsed": false,
    "deletable": true,
    "editable": true
   },
   "outputs": [],
   "source": [
    "count = 0\n",
    "for i in files:\n",
    "    df = pd.read_csv(i)\n",
    "    df.drop([\"Unnamed: 0\",], axis=1, inplace=True)\n",
    "    if count == 0:\n",
    "        df_all = df.copy(deep=True)\n",
    "    else:\n",
    "        df_all = df_all.append(df, ignore_index=True)\n",
    "    count += 1\n",
    "#df_all #df_all is the dataframe containing all news stories from reputable publishers."
   ]
  },
  {
   "cell_type": "code",
   "execution_count": 3,
   "metadata": {
    "collapsed": false,
    "deletable": true,
    "editable": true,
    "scrolled": false
   },
   "outputs": [],
   "source": [
    "#create and clean \"real\" DF\n",
    "#real_df = df1.append(df2, ignore_index = True).append(df3, ignore_index = True)\n",
    "real_df = df_all.copy()\n",
    "real_df.drop(['year','month', 'id', 'url', 'publication', 'author'], axis=1, inplace=True)\n",
    "real_df = real_df.dropna()\n",
    "real_df['type'] = 0\n",
    "real_df = real_df.rename(columns={'content': 'text'})\n",
    "#real_df #real_df is the dataframe containing cleaned versions of the \"real\" news stories."
   ]
  },
  {
   "cell_type": "code",
   "execution_count": 4,
   "metadata": {
    "collapsed": false,
    "deletable": true,
    "editable": true
   },
   "outputs": [],
   "source": [
    "#create and clean \"fake\" DF\n",
    "df4 = pd.read_csv(\"fake.csv\") \n",
    "fake_df = df4\n",
    "fake_df.drop(['uuid', 'ord_in_thread', 'language'], axis=1, inplace=True)\n",
    "fake_df.drop(['crawled', 'site_url', 'country', 'domain_rank'], axis=1, inplace=True)\n",
    "fake_df.drop(['participants_count', 'likes', 'comments', 'shares'], axis=1, inplace=True)\n",
    "fake_df.drop(['thread_title'], axis=1, inplace=True)\n",
    "fake_df.drop(['author', 'spam_score', 'main_img_url', 'replies_count'], axis=1, inplace=True)\n",
    "fake_df['type'] = 1\n",
    "fake_df = fake_df.dropna()\n",
    "fake_df = fake_df.rename(columns={'published': 'date'})\n",
    "cols = list(fake_df.columns.values)\n",
    "cols[1] = 'date'\n",
    "cols[0] = 'title'\n",
    "fake_df = fake_df[cols]\n"
   ]
  },
  {
   "cell_type": "code",
   "execution_count": 6,
   "metadata": {
    "collapsed": false,
    "deletable": true,
    "editable": true
   },
   "outputs": [],
   "source": [
    "fake_df = fake_df.filter(items=['text'])\n",
    "fake_full_text = fake_df['text'].tolist()\n",
    "\n",
    "real_df = real_df.filter(items=['text'])\n",
    "real_full_text = real_df['text'].tolist()"
   ]
  },
  {
   "cell_type": "code",
   "execution_count": 7,
   "metadata": {
    "collapsed": false
   },
   "outputs": [
    {
     "name": "stdout",
     "output_type": "stream",
     "text": [
      "0\n",
      "1000\n",
      "2000\n",
      "3000\n",
      "4000\n",
      "5000\n",
      "6000\n",
      "7000\n",
      "8000\n",
      "9000\n",
      "10000\n",
      "11000\n",
      "12000\n",
      "0\n",
      "1000\n",
      "2000\n",
      "3000\n",
      "4000\n",
      "5000\n",
      "6000\n",
      "7000\n",
      "8000\n",
      "9000\n",
      "10000\n",
      "11000\n",
      "12000\n",
      "13000\n",
      "14000\n",
      "15000\n",
      "16000\n",
      "17000\n",
      "18000\n",
      "19000\n",
      "20000\n",
      "21000\n",
      "22000\n",
      "23000\n",
      "24000\n",
      "25000\n",
      "26000\n",
      "27000\n",
      "28000\n",
      "29000\n",
      "30000\n",
      "31000\n",
      "32000\n",
      "33000\n",
      "34000\n",
      "35000\n",
      "36000\n",
      "37000\n",
      "38000\n",
      "39000\n",
      "40000\n",
      "41000\n",
      "42000\n",
      "43000\n",
      "44000\n",
      "45000\n",
      "46000\n",
      "47000\n",
      "48000\n",
      "49000\n",
      "50000\n",
      "51000\n",
      "52000\n",
      "53000\n",
      "54000\n",
      "55000\n",
      "56000\n",
      "57000\n",
      "58000\n",
      "59000\n",
      "60000\n",
      "61000\n",
      "65000\n",
      "66000\n",
      "67000\n",
      "68000\n",
      "69000\n",
      "70000\n",
      "71000\n",
      "72000\n",
      "73000\n",
      "74000\n",
      "75000\n",
      "76000\n",
      "77000\n",
      "78000\n",
      "79000\n",
      "80000\n",
      "81000\n",
      "82000\n",
      "83000\n",
      "84000\n",
      "85000\n",
      "86000\n",
      "87000\n",
      "88000\n",
      "89000\n",
      "90000\n",
      "91000\n",
      "92000\n",
      "93000\n",
      "94000\n",
      "95000\n",
      "96000\n",
      "97000\n",
      "98000\n",
      "99000\n",
      "100000\n",
      "101000\n",
      "102000\n",
      "103000\n",
      "104000\n",
      "105000\n",
      "106000\n",
      "107000\n",
      "108000\n",
      "109000\n",
      "110000\n",
      "111000\n",
      "112000\n",
      "113000\n",
      "114000\n",
      "115000\n",
      "116000\n",
      "117000\n",
      "118000\n",
      "119000\n",
      "120000\n",
      "121000\n",
      "122000\n",
      "123000\n",
      "124000\n",
      "125000\n",
      "126000\n",
      "127000\n",
      "128000\n",
      "129000\n",
      "130000\n",
      "131000\n",
      "132000\n",
      "133000\n",
      "134000\n",
      "135000\n",
      "136000\n",
      "137000\n",
      "138000\n",
      "139000\n",
      "140000\n",
      "141000\n",
      "142000\n"
     ]
    }
   ],
   "source": [
    "import sqlite3\n",
    "conn = sqlite3.connect('real_fake.db')\n",
    "c = conn.cursor()\n",
    "c.execute(\"\"\"CREATE TABLE IF NOT EXISTS meta (id INTEGER PRIMARY KEY AUTOINCREMENT, source TEXT, \n",
    "source_id INTEGER, class TEXT);\"\"\")\n",
    "\n",
    "base_insert_query = \"\"\"INSERT INTO meta (id, source, source_id, class) VALUES (null, ?,?,?)\"\"\"\n",
    "both_dfs = { \"fake\":fake_df, \"real\":real_df}\n",
    "for label, mydf in both_dfs.items():\n",
    "    for row in mydf.iterrows():\n",
    "        df_id = int(row[0])\n",
    "        \n",
    "        source = label + \"_df\"\n",
    "        myvalues = (source, df_id, label)\n",
    "        if df_id % 1000 == 0:\n",
    "            print(df_id)\n",
    "        c.execute(base_insert_query, myvalues)\n",
    "conn.commit()"
   ]
  },
  {
   "cell_type": "code",
   "execution_count": null,
   "metadata": {
    "collapsed": true
   },
   "outputs": [],
   "source": [
    "\n",
    "import requests \n",
    "import enchant\n",
    "\n",
    "words = requests.get('http://ir.dcs.gla.ac.uk/resources/linguistic_utils/stop_words')\n",
    "stoplist1 = words.text.split(\"\\r\\n\")\n",
    "\n",
    "from nltk.corpus import stopwords\n",
    "stoplist2 = set(stopwords.words('english'))\n",
    "\n",
    "stoplist1.extend(stoplist2)\n",
    "\n",
    "fullstops = list(set(stoplist1))\n",
    "\n",
    "def remove_stops(stoplist, wordlist):\n",
    "    result = []\n",
    "    for i in wordlist:\n",
    "        if i not in stoplist:\n",
    "                result.append(i)\n",
    "    return result\n",
    "\n",
    "def spellcheck(wordlist):\n",
    "    result = []\n",
    "    d = enchant.Dict(\"en_US\")\n",
    "    for i in wordlist:\n",
    "        if d.check(i) or d.check(i.capitalize()):\n",
    "            result.append(i)\n",
    "         \n",
    "    return result\n",
    "def clean_text(list_of_texts):\n",
    "    fully_cleaned =[]\n",
    "    #normalize ocr errors\n",
    "    for i in list_of_texts:\n",
    "        #lowercase all\n",
    "        ocr_lower = i.lower()\n",
    "        #tokenize, remove punctuation and numbers, remove tabs, newlines, etc.\n",
    "        ocr_cleaner = ocr_lower.replace(\"\\n\", \" \").replace(\"\\t\", \" \")\n",
    "        ocr_tokens = ocr_cleaner.split(\" \")\n",
    "        \n",
    "        no_numbers_or_punct = []\n",
    "        for token in ocr_tokens:\n",
    "            if token.isalpha():\n",
    "                no_numbers_or_punct.append(token)\n",
    "            else:\n",
    "                \n",
    "                new_token = \"\"\n",
    "                for letter in token:\n",
    "                    if letter.isalpha():\n",
    "                        new_token += letter\n",
    "                if new_token != \"\":\n",
    "                    no_numbers_or_punct.append(new_token)  \n",
    "        #almost_ready_before_spellcheck = remove_stops(fullstops, no_numbers_or_punct)\n",
    "        #almost_ready = spellcheck(almost_ready_before_spellcheck)\n",
    "        #from nltk.stem import WordNetLemmatizer\n",
    "        #lemmatization\n",
    "        #wordnet_lemmatizer = WordNetLemmatizer()\n",
    "        #lemmas = []\n",
    "        #for token in almost_ready:\n",
    "        #    lemma = wordnet_lemmatizer.lemmatize(token)\n",
    "        #    lemmas.append(lemma)\n",
    "        \n",
    "        #ready = [i for i in lemmas if len(i) > 2]\n",
    "        #fully_cleaned.append(ready)\n",
    "        fully_cleaned.append(no_numbers_or_punct)\n",
    "    return fully_cleaned\n",
    "#cleaned text for fake\n",
    "fake_cleaned = clean_text(fake_full_text)\n",
    "real_cleaned = clean_text(real_full_text)"
   ]
  },
  {
   "cell_type": "code",
   "execution_count": 8,
   "metadata": {
    "collapsed": false,
    "deletable": true,
    "editable": true
   },
   "outputs": [
    {
     "data": {
      "text/plain": [
       "22717"
      ]
     },
     "execution_count": 8,
     "metadata": {},
     "output_type": "execute_result"
    }
   ],
   "source": [
    "from collections import Counter\n",
    "both_cleaned = [fake_cleaned, real_cleaned]\n",
    "\n",
    "ocr_counters = []\n",
    "for x in both_cleaned:\n",
    "    ocr_counters_mini = [Counter(i) for i in x]\n",
    "    #take only the first 500 articles in each\n",
    "    #NOTE: This step should be randomized in the future, and the index of each article\n",
    "    # used in a sample should be stored.\n",
    "    ocr_counters.extend(ocr_counters_mini[:500])\n",
    "\n",
    "from sklearn.feature_extraction import DictVectorizer\n",
    "from sklearn.feature_extraction.text import TfidfTransformer\n",
    "v = DictVectorizer()\n",
    "X = v.fit_transform(ocr_counters)\n",
    "y = TfidfTransformer()\n",
    "Z = y.fit_transform(X)\n",
    "#fake only right now\n",
    "scaled_vsm = Z.toarray()\n",
    "#fake_cleaned[-1], scaled_vsm[len(fake_cleaned)-1]\n",
    "v.vocabulary_[\"obama\"] #Feature number outputed by .vocabulary is the index of the searched word in the array."
   ]
  },
  {
   "cell_type": "code",
   "execution_count": 9,
   "metadata": {
    "collapsed": false,
    "deletable": true,
    "editable": true
   },
   "outputs": [],
   "source": [
    "scaled_vsm[0][22717], ocr_counters[0][\"obama\"]\n",
    "y = list(range(len(scaled_vsm)))\n",
    "y[:5]\n",
    "def make_record():\n",
    "    labels = [\"score\", \"train_indicies\", \"test_indicies\", \"train_size\", \"test_size\", \"random_state\"]\n",
    "    record = pd.DataFrame(columns=labels)\n",
    "    return record\n",
    "#record = make_record()"
   ]
  },
  {
   "cell_type": "code",
   "execution_count": 23,
   "metadata": {
    "collapsed": false,
    "deletable": true,
    "editable": true
   },
   "outputs": [],
   "source": [
    "from sklearn.model_selection import train_test_split\n",
    "\n",
    "rows = []\n",
    "for i in range(75):\n",
    "    tr_s = 750\n",
    "    te_s = 250\n",
    "    X_train, X_test, y_train, y_test = train_test_split(scaled_vsm, y, train_size=tr_s, test_size=te_s, random_state=i)\n",
    "\n",
    "    #take 500 random samples from real_df\n",
    "    #take 500 random samples from fake_df\n",
    "\n",
    "    #evaluate accuracy\n",
    "    #run over and over and derive mean accuracy\n",
    "    train_labels = []\n",
    "    for pos in y_train:\n",
    "        if pos > 499:\n",
    "            #real = 0\n",
    "            value = 0\n",
    "        else:\n",
    "            #fake = 1\n",
    "            value = 1\n",
    "        train_labels.append(value)\n",
    "    test_labels = []\n",
    "    for pos in y_test:\n",
    "        if pos > 499:\n",
    "            #real = 0\n",
    "            value = 0\n",
    "        else:\n",
    "            #fake = 1\n",
    "            value = 1\n",
    "        test_labels.append(value)\n",
    "    from sklearn.linear_model import LogisticRegression\n",
    "    # Create classifiers\n",
    "    lr = LogisticRegression()\n",
    "    lr.fit(X_train, train_labels)\n",
    "    results = lr.predict(X_test)\n",
    "    score = lr.score(X_test, test_labels)\n",
    "    y_train = [str(u) for u in y_train]\n",
    "    y_test = [str(v) for v in y_test]\n",
    "    a = ', '.join(y_train)\n",
    "    b = \", \".join(y_test)\n",
    "    row = [i, a, b, score, tr_s, te_s, \"tfidf_full_text\"]\n",
    "    rows.append(row)\n",
    "cols=[\"seed\", \"train_ids\", \"test_ids\", \"rate\", \"train_size\", \"test_size\", \"features_used\"]"
   ]
  },
  {
   "cell_type": "code",
   "execution_count": 24,
   "metadata": {
    "collapsed": false,
    "deletable": true,
    "editable": true
   },
   "outputs": [
    {
     "name": "stdout",
     "output_type": "stream",
     "text": [
      "count    75.000000\n",
      "mean      0.920800\n",
      "std       0.015755\n",
      "min       0.876000\n",
      "25%       0.912000\n",
      "50%       0.924000\n",
      "75%       0.930000\n",
      "max       0.956000\n",
      "Name: rate, dtype: float64\n"
     ]
    },
    {
     "data": {
      "text/plain": [
       "array([[<matplotlib.axes._subplots.AxesSubplot object at 0x2a4110550>]], dtype=object)"
      ]
     },
     "execution_count": 24,
     "metadata": {},
     "output_type": "execute_result"
    },
    {
     "data": {
      "image/png": "[encoded data removed]",
      "text/plain": [
       "<matplotlib.figure.Figure at 0x2a40f3cc0>"
      ]
     },
     "metadata": {},
     "output_type": "display_data"
    }
   ],
   "source": [
    "df_results = pd.DataFrame.from_records(rows, columns=cols)\n",
    "#df_results.to_csv(\"test1.csv\")\n",
    "print(df_results['rate'].describe())\n",
    "import matplotlib\n",
    "%matplotlib inline\n",
    "df_results.hist(column='rate')"
   ]
  },
  {
   "cell_type": "code",
   "execution_count": null,
   "metadata": {
    "collapsed": false,
    "deletable": true,
    "editable": true
   },
   "outputs": [],
   "source": [
    "X_train[0], y_train[0]"
   ]
  },
  {
   "cell_type": "code",
   "execution_count": null,
   "metadata": {
    "collapsed": false,
    "deletable": true,
    "editable": true
   },
   "outputs": [],
   "source": [
    "list(X_train[0]) == list(scaled_vsm[7634])"
   ]
  },
  {
   "cell_type": "code",
   "execution_count": null,
   "metadata": {
    "collapsed": false,
    "deletable": true,
    "editable": true
   },
   "outputs": [],
   "source": [
    "len(X_train)"
   ]
  },
  {
   "cell_type": "code",
   "execution_count": null,
   "metadata": {
    "collapsed": false,
    "deletable": true,
    "editable": true
   },
   "outputs": [],
   "source": [
    "len(y_train)"
   ]
  },
  {
   "cell_type": "code",
   "execution_count": null,
   "metadata": {
    "collapsed": false,
    "deletable": true,
    "editable": true
   },
   "outputs": [],
   "source": [
    "len(X_test)"
   ]
  },
  {
   "cell_type": "code",
   "execution_count": null,
   "metadata": {
    "collapsed": true,
    "deletable": true,
    "editable": true
   },
   "outputs": [],
   "source": []
  }
 ],
 "metadata": {
  "kernelspec": {
   "display_name": "Python 3",
   "language": "python",
   "name": "python3"
  },
  "language_info": {
   "codemirror_mode": {
    "name": "ipython",
    "version": 3
   },
   "file_extension": ".py",
   "mimetype": "text/x-python",
   "name": "python",
   "nbconvert_exporter": "python",
   "pygments_lexer": "ipython3",
   "version": "3.6.0"
  }
 },
 "nbformat": 4,
 "nbformat_minor": 2
}
